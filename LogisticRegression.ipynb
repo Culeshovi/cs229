{
 "cells": [
  {
   "cell_type": "code",
   "execution_count": null,
   "metadata": {
    "collapsed": true
   },
   "outputs": [],
   "source": [
    "import matplotlib.pyplot as plt\n",
    "from matplotlib import style\n",
    "style.use('ggplot')\n",
    "import pandas as pd\n",
    "import numpy as np\n",
    "import math"
   ]
  },
  {
   "cell_type": "code",
   "execution_count": null,
   "metadata": {
    "collapsed": true
   },
   "outputs": [],
   "source": [
    "def logistic_runner(x,y,a,b,m,iterate):\n",
    "    new_m=m\n",
    "    new_b=b\n",
    "    for i in range(iterate):\n",
    "        [new_b,new_m]=gradient_ascent_algorithm(x,y,a,new_b,new_m)\n",
    "    return [new_b,new_m]"
   ]
  },
  {
   "cell_type": "code",
   "execution_count": null,
   "metadata": {
    "collapsed": true
   },
   "outputs": [],
   "source": [
    "def gradient_ascent_algorithm(x,y,a,b,m):\n",
    "    new_m=np.array([0.0,0.0,0.0,0.0,0.0])\n",
    "    new_b=0\n",
    "    new_m1=np.array([])\n",
    "    n=float(len(x))\n",
    "    for i in range(len(x)):\n",
    "        k=x[i]\n",
    "        s=0\n",
    "        new_b+=(1/n)*(y[i]-logisticfunction(k,b,m))\n",
    "        for j in range(len(x[i])):\n",
    "            h=x[i][j]\n",
    "            new_m[j]=new_m[j]+(1/n)*h*(y[i]-logisticfunction(k,b,m))\n",
    "    m1=m+(a*new_m)\n",
    "    b1=b+(a*new_b)\n",
    "    return [b1,m1]\n"
   ]
  },
  {
   "cell_type": "code",
   "execution_count": null,
   "metadata": {
    "collapsed": true
   },
   "outputs": [],
   "source": [
    "def logisticfunction(x,b,m):\n",
    "    c=x*m\n",
    "    s=(b+sum(c))\n",
    "    y=1.0/(1.0+math.exp(-s))\n",
    "    return y"
   ]
  },
  {
   "cell_type": "code",
   "execution_count": null,
   "metadata": {
    "collapsed": true
   },
   "outputs": [],
   "source": [
    "def postlogisticfunction(x,b,m):   #Using Digression ie forcing the value to output either 1 or 0\n",
    "    c=x*m\n",
    "    s=(b+sum(c))\n",
    "    if s>=0.0:\n",
    "        return 1\n",
    "    else:\n",
    "        return 0\n",
    " "
   ]
  },
  {
   "cell_type": "code",
   "execution_count": null,
   "metadata": {
    "collapsed": true
   },
   "outputs": [],
   "source": [
    "def predict(x,b,m):#Predicter Function\n",
    "    y=[]\n",
    "    for i in range(len(x)):\n",
    "        k=prelogisticfunction(x[i],b,m)\n",
    "        y.append(k)\n",
    "    return y\n",
    "        "
   ]
  },
  {
   "cell_type": "code",
   "execution_count": null,
   "metadata": {
    "collapsed": true
   },
   "outputs": [],
   "source": [
    "def run():\n",
    "    a=0.0001#learning_rate\n",
    "    initial_b = 1.0 # initial theta 0\n",
    "    initial_m =np.array([1.0,1.0,1.0,1.0,1.0])# rest of the theta\n",
    "    linear_train = pd.read_excel(\"clslowbwt.xls\")\n",
    "    x=np.array(linear_train[[\"BIRTH\",\"SMOKE\",\"RACE\",\"AGE\",\"LWT\"]])\n",
    "    y=np.array(linear_train[\"LOW\"])\n",
    "    x1=np.array(linear_train[\"AGE\"])\n",
    "    iteration=1000\n",
    "    [b,m]=logistic_runner(x,y,a,initial_b,initial_m,iteration)\n",
    "    k=predict(x,b,m)\n",
    "    plt.xlabel('AGE')\n",
    "    plt.ylabel('LOW BODY WEIGHT')\n",
    "    plt.title(' AGE Vs. LOW BODY WEIGHT 1-YES/0-NO')\n",
    "    plt.scatter(x1,k,color='c',label=\"Hypothesis\")\n",
    "    plt.legend()\n",
    "    plt.show()\n",
    "\n",
    "\n",
    "   #DataSet https://www.umass.edu/statdata/statdata/stat-logistic.html\n",
    "\n",
    "if __name__ == '__main__':\n",
    "    run()\n"
   ]
  },
  {
   "cell_type": "code",
   "execution_count": null,
   "metadata": {
    "collapsed": true
   },
   "outputs": [],
   "source": []
  }
 ],
 "metadata": {
  "kernelspec": {
   "display_name": "Python 3",
   "language": "python",
   "name": "python3"
  }
 },
 "nbformat": 4,
 "nbformat_minor": 2
}
